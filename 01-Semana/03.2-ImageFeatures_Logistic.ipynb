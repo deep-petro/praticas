{
 "cells": [
  {
   "cell_type": "markdown",
   "metadata": {
    "colab_type": "text",
    "id": "8SoBWkfISss0"
   },
   "source": [
    "# Deep Petro\n",
    "\n",
    "## Preâmbulo\n",
    "\n",
    "O código abaixo consiste dos imports comuns. Além do mais, configuramos as imagens para ficar de um tamanho aceitável e criamos algumas funções auxiliares. No geral, você pode ignorar a próxima célula."
   ]
  },
  {
   "cell_type": "code",
   "execution_count": null,
   "metadata": {
    "colab": {
     "base_uri": "https://localhost:8080/",
     "height": 591
    },
    "colab_type": "code",
    "id": "K2TzWvwQ1QkF",
    "outputId": "b43aa9e6-c0bb-4f0f-8f0e-44898f14d001"
   },
   "outputs": [],
   "source": [
    "# !nvcc --version\n",
    "# !pip install mxnet-cu100==1.4.1"
   ]
  },
  {
   "cell_type": "code",
   "execution_count": null,
   "metadata": {},
   "outputs": [],
   "source": [
    "# -*- coding: utf8\n",
    "\n",
    "import matplotlib.pyplot as plt\n",
    "\n",
    "import mxnet as mx\n",
    "import mxnet.ndarray as nd\n",
    "\n",
    "import numpy as np\n",
    "\n",
    "plt.rcParams['figure.figsize']  = (18, 10)\n",
    "plt.rcParams['axes.labelsize']  = 20\n",
    "plt.rcParams['axes.titlesize']  = 20\n",
    "plt.rcParams['legend.fontsize'] = 20\n",
    "plt.rcParams['xtick.labelsize'] = 20\n",
    "plt.rcParams['ytick.labelsize'] = 20\n",
    "plt.rcParams['lines.linewidth'] = 4"
   ]
  },
  {
   "cell_type": "code",
   "execution_count": null,
   "metadata": {},
   "outputs": [],
   "source": [
    "plt.ion()\n",
    "\n",
    "plt.style.use('seaborn-colorblind')\n",
    "plt.rcParams['figure.figsize']  = (12, 8)"
   ]
  },
  {
   "cell_type": "markdown",
   "metadata": {
    "colab_type": "text",
    "id": "DedD8sp_Tef2"
   },
   "source": [
    "## Aula 03 - Features de Imagem e Regressão Logística\n",
    "\n",
    "### Preparando o dataset: CIFAR-10\n",
    "\n",
    "O CIFAR-10 é um dataset de pequenas imagens ($32 \\times 32 \\times 3$) que contemplam 10 classes de objetos. É considerado de baixa dificuldade por se tratarem de classes muito distintas, sem sobreposição. \n",
    "\n",
    "A API de dados do gluon contém alguns datasets simples, dentre eles o CIFAR-10. Para ter acesso a esses datasets, basta executar o seguinte import:\n",
    "```python\n",
    "from mxnet.gluon import data as gdata\n",
    "```\n",
    "A função **```gdata.CIFAR10()```** permite baixar as amostras de treino e teste setando o parâmetro booleano **```train```**,  bem como aplicar transformações aos dados ao criar uma função customizada **```transform(data, label)```**. <br>\n",
    "\n",
    "O objetivo é alimentar um modelo de regressão logística com as imagens do CIFAR-10, portanto precisamos transformá-las em um vetor bidimensional $x \\in R^{n \\times d}$, sendo $n$ a quantidade de amostras e $d$ a dimensionalidade da entrada. Para tal, nossa função customizada vai achatar as imagens, de modo que $d = 32 \\times 32 \\times 3 = 3072$. **A entrada será composta pelas intensidades dos pixels nos 3 canais de cor.**"
   ]
  },
  {
   "cell_type": "code",
   "execution_count": null,
   "metadata": {
    "colab": {
     "base_uri": "https://localhost:8080/",
     "height": 85
    },
    "colab_type": "code",
    "id": "mMjgaxUh0n-e",
    "outputId": "0d3e73f3-f389-48a5-dcc8-3bfc0ce4af47"
   },
   "outputs": [],
   "source": [
    "from mxnet.gluon import data as gdata"
   ]
  },
  {
   "cell_type": "markdown",
   "metadata": {},
   "source": [
    "Função customizada para criar o nosso vetor achatado de pixels. Note como a mesma simplemesmente converte um tensor (32, 32, 3). 32 x 32 pixels, 3 canais de cores, em um vetor. Dividimos por 255 para deixar as imagens em escala 0-1."
   ]
  },
  {
   "cell_type": "code",
   "execution_count": null,
   "metadata": {},
   "outputs": [],
   "source": [
    "def transform(data, label):\n",
    "    return data.astype('float32').reshape((32*32*3))/255, label.astype('float32')"
   ]
  },
  {
   "cell_type": "markdown",
   "metadata": {},
   "source": [
    "Carregando treino e teste do CIFAR-10, aplicando a função customizada. O Gluon tem classes prontas para vários datasets clássicos."
   ]
  },
  {
   "cell_type": "code",
   "execution_count": null,
   "metadata": {},
   "outputs": [],
   "source": [
    "cifar_train = gdata.vision.CIFAR10(root='.', train=True, transform=transform)\n",
    "cifar_test = gdata.vision.CIFAR10(root='.', train=False, transform=transform)"
   ]
  },
  {
   "cell_type": "markdown",
   "metadata": {},
   "source": [
    "### Dividindo os dados em imagens (X) e rótulos (Y)\n",
    "\n",
    "Para propósito didático, reduziremos a quantidade de classes e amostras do dataset. Trabalharemos com apenas 5 classes"
   ]
  },
  {
   "cell_type": "code",
   "execution_count": null,
   "metadata": {},
   "outputs": [],
   "source": [
    "X_train = []\n",
    "Y_train = []\n",
    "for x_i, y_i in cifar_train:\n",
    "    if y_i < 5:                    # pega apenas as primeiras 5 classes\n",
    "        X_train.append(x_i.asnumpy())\n",
    "        Y_train.append(y_i)\n",
    "X_train = np.array(X_train[::5])\n",
    "Y_train = np.array(Y_train[::5])  # amostra elementos de 5 em 5"
   ]
  },
  {
   "cell_type": "code",
   "execution_count": null,
   "metadata": {},
   "outputs": [],
   "source": [
    "X_test = []\n",
    "Y_test = []\n",
    "for x_i, y_i in cifar_test:\n",
    "    if y_i < 5:                  # pega apenas as primeiras 5 classes\n",
    "        X_test.append(x_i.asnumpy())\n",
    "        Y_test.append(y_i)\n",
    "X_test = np.array(X_test[::5])\n",
    "Y_test = np.array(Y_test[::5])  # amostra elementos de 5 em 5"
   ]
  },
  {
   "cell_type": "code",
   "execution_count": null,
   "metadata": {},
   "outputs": [],
   "source": [
    "print(len(X_train))"
   ]
  },
  {
   "cell_type": "code",
   "execution_count": null,
   "metadata": {},
   "outputs": [],
   "source": [
    "print(len(X_test))"
   ]
  },
  {
   "cell_type": "markdown",
   "metadata": {},
   "source": [
    "Visualizando amostras aleatórias do CIFAR-10"
   ]
  },
  {
   "cell_type": "code",
   "execution_count": null,
   "metadata": {},
   "outputs": [],
   "source": [
    "fig, axs = plt.subplots(nrows=1, ncols=20, figsize=(20, 3))\n",
    "for i in range(20):\n",
    "    axs[i].imshow(cifar_test[np.random.choice(len(cifar_test))][0].asnumpy().reshape((32,32,3)))\n",
    "    axs[i].set_xticks([])\n",
    "    axs[i].set_yticks([])"
   ]
  },
  {
   "cell_type": "markdown",
   "metadata": {
    "colab_type": "text",
    "id": "Re1EamrbZXg6"
   },
   "source": [
    "## Regressão Logística com Scikit-Learn\n",
    "\n",
    "A biblioteca do Scikit-Learn implementa os principais métodos de aprendizado de máquina. A regressão logística que implementamos do zero, pode ser utilizada com alguns comandos curtos dessa biblioteca. Começamos com o import:\n",
    "```python\n",
    "from sklearn.linear_model import LogisticRegression\n",
    "```\n",
    "Isso vai nos permitir invocar a implementação da regressão logística, bem como treiná-la e testá-la nos nossos dados. Inicializamos o modelo de regressão logística com alguns parâmetros padrão, como o *solver* para otimizar o problema, e o parâmetro *multi_class* que vai definir como minimizar a função de perda.\n",
    "\n",
    "Para treinar o modelo, basta invocar a função **```clf.fit(dados, rótulos)```**, sendo ```clf``` o seu classificador inicializado. As duas principais formas de testar o seu modelo são:\n",
    " - Predizendo rótulos de novos dados: **```clf.predict(dados)```**\n",
    " - Calculando a acurácia de predição para um conjunto de dados e rótulos: **```clf.score(dados, rótulos)```**"
   ]
  },
  {
   "cell_type": "code",
   "execution_count": null,
   "metadata": {
    "colab": {
     "base_uri": "https://localhost:8080/",
     "height": 136
    },
    "colab_type": "code",
    "id": "bmvB85ch1emZ",
    "outputId": "c53e820f-f04e-4714-d4c8-3d5f4216ee2e"
   },
   "outputs": [],
   "source": [
    "import time\n",
    "from sklearn.linear_model import LogisticRegression"
   ]
  },
  {
   "cell_type": "markdown",
   "metadata": {},
   "source": [
    "Inicializando um modelo de regressão logística. A logística clássica não tem modo multiclasse. Temos que fazer one-vs-the-rest. Caso mude para `multi_class='multinomial'` a bibliotca faz softmax"
   ]
  },
  {
   "cell_type": "code",
   "execution_count": null,
   "metadata": {},
   "outputs": [],
   "source": [
    "clf = LogisticRegression(random_state=0, solver='liblinear', multi_class='ovr')"
   ]
  },
  {
   "cell_type": "code",
   "execution_count": null,
   "metadata": {},
   "outputs": [],
   "source": [
    "print(\"Treinando modelo de regressão logística\")\n",
    "start = time.time() ### Tempo inicial\n",
    "clf.fit(X_train, Y_train)\n",
    "end = time.time()   ### Tempo final\n",
    "print(\"%.2f segundos para treinar\"  % (end-start) )\n",
    "\n",
    "print(\"Testando..\")\n",
    "start = time.time() ### Tempo inicial\n",
    "acc = clf.score(X_test, Y_test)\n",
    "end = time.time()   ### Tempo final\n",
    "print(\"%.2f segundos para testar\" % (end-start) )\n",
    "\n",
    "print(\"\\nAcurácia de classificação: %.2f\\n\" % (acc * 100.) )"
   ]
  },
  {
   "cell_type": "markdown",
   "metadata": {
    "colab_type": "text",
    "id": "CUw7QuKC-0Z1"
   },
   "source": [
    "## Features de Imagem\n",
    "\n",
    "Na célula anterior, executamos uma classificação com um modelo de regressão logística, alimentando como entrada um vetor de intensidades de pixels. \n",
    "\n",
    "**<center>O que acontece se em vez disso a entrada do modelo sejam features de imagem?</center>**\n",
    "\n",
    "Abaixo está implementada a função **```extract_features(X)```** que, dadas as imagens do CIFAR-10, extrai 4 diferentes features de imagem: HOG, Dense Daisy, Local Binary Pattern, Color Histogram. \n",
    "\n",
    "**Seu trabalho é** escolher a melhor feature (ou combinação de features) para classificar as imagens do dataset. Sinta-se livre para experimentar cada feature individualmente ou combiná-las, basta apenas preencher a lista de features criada dentro da função. Atenção para alguns apectos:\n",
    "\n",
    "- Desempenho da feature em termos de acurácia. Por que algumas são melhores que outras?\n",
    "- Tempo de treinamento\n",
    "- Dimensionalidade da feature (impacta no tempo de treinamento);\n",
    "- A combinação de diferentes features pode aprimorar **ou não** a performance de classificação (por que?);"
   ]
  },
  {
   "cell_type": "code",
   "execution_count": null,
   "metadata": {},
   "outputs": [],
   "source": [
    "from skimage.color import rgb2gray\n",
    "from skimage.exposure import histogram\n",
    "\n",
    "from skimage.feature import daisy\n",
    "from skimage.feature import hog\n",
    "from skimage.feature import local_binary_pattern as lbp"
   ]
  },
  {
   "cell_type": "code",
   "execution_count": null,
   "metadata": {
    "colab": {
     "base_uri": "https://localhost:8080/",
     "height": 136
    },
    "colab_type": "code",
    "id": "nCEI5H3i5nwU",
    "outputId": "dcf3449e-cc89-4a85-c575-17c3286b87fb"
   },
   "outputs": [],
   "source": [
    "def extract_features(X):\n",
    "    feats = []\n",
    "    for x in X:\n",
    "        ## HOG Features\n",
    "        fd_hog = hog(x.reshape((32,32,3)),\n",
    "                     orientations=12,\n",
    "                     pixels_per_cell=(8,8),\n",
    "                     cells_per_block=(1, 1),\n",
    "                     multichannel=True)\n",
    "\n",
    "        ## Dense Daisy\n",
    "        fd_daisy = daisy(rgb2gray(x.reshape((32,32,3))),\n",
    "                         step=180,\n",
    "                         radius=8,\n",
    "                         rings=2,\n",
    "                         histograms=6,\n",
    "                         orientations=8)\n",
    "\n",
    "        ## Local Binary Pattern\n",
    "        fd_lbp = lbp(rgb2gray(x.reshape((32,32,3))),\n",
    "                     8, 1,\n",
    "                     method='uniform')\n",
    "\n",
    "        ## Color Histogram\n",
    "        x = x.reshape((32,32,3))\n",
    "        fd_hist = [histogram(x[:,:,0], nbins=10),\n",
    "                   histogram(x[:,:,1], nbins=10),\n",
    "                   histogram(x[:,:,2], nbins=10)]\n",
    "\n",
    "        ### IMPLEMENTE A PARTIR DAQUI! Experimente algumas features! ###\n",
    "        feats.append(  )\n",
    "        \n",
    "    return np.array(feats)\n",
    "\n",
    "print(\"Extraindo features de imagem\")\n",
    "feats_train = extract_features(X_train)\n",
    "feats_test  = extract_features(X_test)"
   ]
  },
  {
   "cell_type": "markdown",
   "metadata": {},
   "source": [
    "Executando a nova Logistic Regression"
   ]
  },
  {
   "cell_type": "code",
   "execution_count": null,
   "metadata": {},
   "outputs": [],
   "source": [
    "clf = LogisticRegression(random_state=0, solver='liblinear', multi_class='ovr')  \n",
    "  \n",
    "print(\"Treinando modelo de regressão logística\")\n",
    "start = time.time() ### Tempo inicial\n",
    "clf.fit(feats_train, Y_train)\n",
    "end = time.time()   ### Tempo inicial\n",
    "print(\"%.2f segundos para treinar\"  % (end-start) )\n",
    "\n",
    "start = time.time() ### Tempo inicial\n",
    "acc = clf.score(feats_test, Y_test)\n",
    "end = time.time()   ### Tempo inicial\n",
    "print(\"%.2f segundos para testar\"  % (end-start) )\n",
    "\n",
    "print(\"\\nAcurácia de classificação: %.2f\\n\" % (acc * 100.) )"
   ]
  },
  {
   "cell_type": "code",
   "execution_count": null,
   "metadata": {},
   "outputs": [],
   "source": []
  }
 ],
 "metadata": {
  "accelerator": "GPU",
  "colab": {
   "name": "CIFAR10-Logistic.ipynb",
   "provenance": [],
   "version": "0.3.2"
  },
  "kernelspec": {
   "display_name": "Python 3",
   "language": "python",
   "name": "python3"
  },
  "language_info": {
   "codemirror_mode": {
    "name": "ipython",
    "version": 3
   },
   "file_extension": ".py",
   "mimetype": "text/x-python",
   "name": "python",
   "nbconvert_exporter": "python",
   "pygments_lexer": "ipython3",
   "version": "3.6.8"
  }
 },
 "nbformat": 4,
 "nbformat_minor": 1
}
