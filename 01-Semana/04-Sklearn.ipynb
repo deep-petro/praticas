{
 "cells": [
  {
   "cell_type": "markdown",
   "metadata": {},
   "source": [
    "# Deep Petro\n",
    "\n",
    "## Preâmbulo\n",
    "\n",
    "O código abaixo consiste dos imports comuns. Além do mais, configuramos as imagens para ficar de um tamanho aceitável e criamos algumas funções auxiliares. No geral, você pode ignorar a próxima célula."
   ]
  },
  {
   "cell_type": "code",
   "execution_count": null,
   "metadata": {},
   "outputs": [],
   "source": [
    "# -*- coding: utf8\n",
    "\n",
    "import matplotlib.pyplot as plt\n",
    "import numpy as np\n",
    "import pandas as ps\n",
    "\n",
    "plt.rcParams['figure.figsize']  = (18, 10)\n",
    "plt.rcParams['axes.labelsize']  = 20\n",
    "plt.rcParams['axes.titlesize']  = 20\n",
    "plt.rcParams['legend.fontsize'] = 20\n",
    "plt.rcParams['xtick.labelsize'] = 20\n",
    "plt.rcParams['ytick.labelsize'] = 20\n",
    "plt.rcParams['lines.linewidth'] = 4"
   ]
  },
  {
   "cell_type": "code",
   "execution_count": null,
   "metadata": {},
   "outputs": [],
   "source": [
    "plt.ion()\n",
    "\n",
    "plt.style.use('seaborn-colorblind')\n",
    "plt.rcParams['figure.figsize']  = (12, 8)"
   ]
  },
  {
   "cell_type": "markdown",
   "metadata": {},
   "source": [
    "## Aula 04 - Classificação e Regressão Clássica\n",
    "\n",
    "Vamos para um pouco, por uma aula apenas, de usar mxnet para relembrar conceitos clássicos de aprendizado de máquina. Sua tarefa consiste de avaliar diferentes classificadores e algoritmos de regressão.\n",
    "\n",
    "Lembre-se que um dos fatores mais importantes do aprendizado de máquina é a generalização. Portanto, geralmente fazemos uso de validação cruzada usando conjuntos de treino, validação e teste.\n",
    "\n",
    "1. Treino: Onde treinamos nossos dados\n",
    "2. Validação: Onde avaliamos nossa escolha de hyper-parameters\n",
    "3. Teste: Nosso resultado final\n",
    "\n",
    "Abaixo esquematizamos uma possível forma de fazer treino, validação e teste com 5-folds. Não é a única forma. A biblioteca de sklearn tem outras. Realize algum tipo de validação cruzada nos problemas abaixo.\n",
    "\n",
    "![](./figs/cross-val.png)\n",
    "\n",
    "## Conjunto de Problemas 1: Classificação\n",
    "\n",
    "* [Avaliação de carros](http://archive.ics.uci.edu/ml/datasets/Car+Evaluation)\n",
    "* [Avaliação de vinhos](http://archive.ics.uci.edu/ml/datasets/Wine+Quality)\n",
    "* [Resultados de partidas do jogo Dota](http://archive.ics.uci.edu/ml/datasets/Dota2+Games+Results) (desafiador!)\n",
    "\n",
    "Para cada base\n",
    "\n",
    "* Realize treino, validação e teste\n",
    "* Compare as métricas no teste\n",
    "* Reporte a precisão, revocação, F1 e a matriz de confusão\n",
    "\n",
    "Para esta tarefa, faça uso da biblioteca [scikit-learn](http://scikit-learn.org). Afinal, no dia a dia, não implementamos tudo do zero. Abaixo temos os imports que vocês precisam. Leiam a API da biblioteca para saber como fazer uso da mesma.\n",
    "\n",
    "Caso esteja demorando muito tempo, faça ao menos um e pule para a regressão.\n",
    "\n",
    "Recomendo testar ao menos:\n",
    "1. LogisticRegressionCV\n",
    "1. SVC\n",
    "1. RandomForestClassifer\n",
    "1. KNNClassifier\n",
    "\n",
    "Lembre-se que alguns algoritmos funcionam melhor tratando (normalizando) os dados antes."
   ]
  },
  {
   "cell_type": "code",
   "execution_count": null,
   "metadata": {},
   "outputs": [],
   "source": [
    "from sklearn.metrics import confusion_matrix\n",
    "from sklearn.metrics import precision_recall_fscore_support\n",
    "\n",
    "# Um fator importante é que o SKLearn não cria conjuntos de validação para você. Você tem algumas abordagens,\n",
    "# uma é realizar um novo split no treino. Outra é fazer uso de classificadores com CV no fim.\n",
    "# Tipo LogisticRegressionCV (ver na API). Por fim, você pode fazer uso da classe GridSearchCV.\n",
    "# Leia a documentação da mesma.\n",
    "from sklearn.model_selection import GridSearchCV\n",
    "from sklearn.model_selection import RandomizedSearchCV\n",
    "from sklearn.model_selection import train_test_split"
   ]
  },
  {
   "cell_type": "code",
   "execution_count": null,
   "metadata": {},
   "outputs": [],
   "source": [
    "# Seu código aqui\n",
    "# . . .\n",
    "# . . .\n",
    "# . . .\n",
    "# . . .\n",
    "# . . ."
   ]
  },
  {
   "cell_type": "markdown",
   "metadata": {},
   "source": [
    "## Conjunto de Problemas 2: Regressão\n",
    "\n",
    "\n",
    "Agora compare algoritmos de classificação nos dados da [seção de regressão linear múltipla](http://college.cengage.com/mathematics/brase/understandable_statistics/7e/students/datasets/mlr/frames/frame.html) da página do *Livro Understandable Statistics* de Charles Brase e Corrinne Brase. Para o conjunto de dados que escolheu, execute a regressão linear múltipla para explicar o fator $X1$ dos dados ([ver descrição de um dos conjuntos](http://college.cengage.com/mathematics/brase/understandable_statistics/7e/students/datasets/mlr/frames/frame.html)) a partir dos outros fatores. \n",
    "\n",
    "Diferente do caso anterior, reporte o erro quadrado médio e o erro quadrado absoluto no conjunto de teste.\n",
    "\n",
    "Recomendo testar ao menos:\n",
    "1. ElasticNet\n",
    "1. Linear Regression\n",
    "1. SVR\n",
    "1. RandomForestRegressor\n",
    "1. KNNRegressor\n",
    "\n",
    "Lembre-se que alguns algoritmos funcionam melhor tratando (normalizando) os dados antes."
   ]
  },
  {
   "cell_type": "code",
   "execution_count": null,
   "metadata": {},
   "outputs": [],
   "source": [
    "from sklearn.metrics import mean_absolute_error\n",
    "from sklearn.metrics import mean_squared_error"
   ]
  },
  {
   "cell_type": "code",
   "execution_count": null,
   "metadata": {},
   "outputs": [],
   "source": [
    "# Seu código aqui\n",
    "# . . .\n",
    "# . . .\n",
    "# . . .\n",
    "# . . .\n",
    "# . . ."
   ]
  }
 ],
 "metadata": {
  "kernelspec": {
   "display_name": "Python 3",
   "language": "python",
   "name": "python3"
  },
  "language_info": {
   "codemirror_mode": {
    "name": "ipython",
    "version": 3
   },
   "file_extension": ".py",
   "mimetype": "text/x-python",
   "name": "python",
   "nbconvert_exporter": "python",
   "pygments_lexer": "ipython3",
   "version": "3.6.8"
  }
 },
 "nbformat": 4,
 "nbformat_minor": 2
}
